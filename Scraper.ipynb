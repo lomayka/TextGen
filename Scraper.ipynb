{
  "nbformat": 4,
  "nbformat_minor": 0,
  "metadata": {
    "colab": {
      "name": "Scraper.ipynb",
      "provenance": [],
      "collapsed_sections": [],
      "machine_shape": "hm"
    },
    "kernelspec": {
      "name": "python3",
      "display_name": "Python 3"
    },
    "accelerator": "GPU"
  },
  "cells": [
    {
      "cell_type": "code",
      "metadata": {
        "id": "pYnxcYPzBHz8",
        "colab_type": "code",
        "colab": {}
      },
      "source": [
        "import requests\n",
        "from bs4 import BeautifulSoup\n",
        "\n",
        "URL = 'http://pozdravok.ru/pozdravleniya/den-rozhdeniya/'\n",
        "URLs = [URL]\n",
        "for i in range(2,501):\n",
        "  URLs.append(URL + str(i) + '.htm')\n"
      ],
      "execution_count": 0,
      "outputs": []
    },
    {
      "cell_type": "code",
      "metadata": {
        "id": "SPYBgqvNBOVb",
        "colab_type": "code",
        "outputId": "a29382b7-a974-4bdf-92ca-c4a77cee322e",
        "colab": {
          "base_uri": "https://localhost:8080/",
          "height": 419
        }
      },
      "source": [
        "import pandas as pd\n",
        "\n",
        "res = []\n",
        "for url in URLs:\n",
        "  page = requests.get(url)\n",
        "\n",
        "  soup = BeautifulSoup(page.content, 'html.parser')\n",
        "  results = soup.find_all(class_='sfst')\n",
        "  for elem in results:\n",
        "    res.append(elem.text)\n",
        "  # for elem in results:\n",
        "  #   print(elem.text)\n",
        "\n",
        "df = pd.DataFrame(data=res, columns=['greetings'])\n",
        "df"
      ],
      "execution_count": 0,
      "outputs": [
        {
          "output_type": "execute_result",
          "data": {
            "text/html": [
              "<div>\n",
              "<style scoped>\n",
              "    .dataframe tbody tr th:only-of-type {\n",
              "        vertical-align: middle;\n",
              "    }\n",
              "\n",
              "    .dataframe tbody tr th {\n",
              "        vertical-align: top;\n",
              "    }\n",
              "\n",
              "    .dataframe thead th {\n",
              "        text-align: right;\n",
              "    }\n",
              "</style>\n",
              "<table border=\"1\" class=\"dataframe\">\n",
              "  <thead>\n",
              "    <tr style=\"text-align: right;\">\n",
              "      <th></th>\n",
              "      <th>greetings</th>\n",
              "    </tr>\n",
              "  </thead>\n",
              "  <tbody>\n",
              "    <tr>\n",
              "      <th>0</th>\n",
              "      <td>Тебе желаю море счастья,Улыбок, солнца и тепла...</td>\n",
              "    </tr>\n",
              "    <tr>\n",
              "      <th>1</th>\n",
              "      <td>С днем рождения поздравляюИ желаю день за днем...</td>\n",
              "    </tr>\n",
              "    <tr>\n",
              "      <th>2</th>\n",
              "      <td>Поздравляю с днем рождения! Пусть жизнь дарит ...</td>\n",
              "    </tr>\n",
              "    <tr>\n",
              "      <th>3</th>\n",
              "      <td>Пусть в жизни будет все, что нужно:Здоровье, м...</td>\n",
              "    </tr>\n",
              "    <tr>\n",
              "      <th>4</th>\n",
              "      <td>С днем рожденья поздравляюИ от всей души желаю...</td>\n",
              "    </tr>\n",
              "    <tr>\n",
              "      <th>...</th>\n",
              "      <td>...</td>\n",
              "    </tr>\n",
              "    <tr>\n",
              "      <th>4992</th>\n",
              "      <td>Желаю, по жизни шагать лишь вперёд,Упорством с...</td>\n",
              "    </tr>\n",
              "    <tr>\n",
              "      <th>4993</th>\n",
              "      <td>Пускай удача не отступит,Легко поможет в каждо...</td>\n",
              "    </tr>\n",
              "    <tr>\n",
              "      <th>4994</th>\n",
              "      <td>Желаю искромётного успеха,Чтоб воплощались все...</td>\n",
              "    </tr>\n",
              "    <tr>\n",
              "      <th>4995</th>\n",
              "      <td>Желаю громкого везения,Пускай успехи валят с н...</td>\n",
              "    </tr>\n",
              "    <tr>\n",
              "      <th>4996</th>\n",
              "      <td>Желаю море процветания,Во всех задачах — продв...</td>\n",
              "    </tr>\n",
              "  </tbody>\n",
              "</table>\n",
              "<p>4997 rows × 1 columns</p>\n",
              "</div>"
            ],
            "text/plain": [
              "                                              greetings\n",
              "0     Тебе желаю море счастья,Улыбок, солнца и тепла...\n",
              "1     С днем рождения поздравляюИ желаю день за днем...\n",
              "2     Поздравляю с днем рождения! Пусть жизнь дарит ...\n",
              "3     Пусть в жизни будет все, что нужно:Здоровье, м...\n",
              "4     С днем рожденья поздравляюИ от всей души желаю...\n",
              "...                                                 ...\n",
              "4992  Желаю, по жизни шагать лишь вперёд,Упорством с...\n",
              "4993  Пускай удача не отступит,Легко поможет в каждо...\n",
              "4994  Желаю искромётного успеха,Чтоб воплощались все...\n",
              "4995  Желаю громкого везения,Пускай успехи валят с н...\n",
              "4996  Желаю море процветания,Во всех задачах — продв...\n",
              "\n",
              "[4997 rows x 1 columns]"
            ]
          },
          "metadata": {
            "tags": []
          },
          "execution_count": 3
        }
      ]
    },
    {
      "cell_type": "code",
      "metadata": {
        "id": "MhZXgrMNSVnG",
        "colab_type": "code",
        "outputId": "ef8eb358-89b0-4b50-c1ea-996bcc14e3ba",
        "colab": {
          "base_uri": "https://localhost:8080/",
          "height": 122
        }
      },
      "source": [
        "from google.colab import drive\n",
        "drive.mount('/content/drive')"
      ],
      "execution_count": 0,
      "outputs": [
        {
          "output_type": "stream",
          "text": [
            "Go to this URL in a browser: https://accounts.google.com/o/oauth2/auth?client_id=947318989803-6bn6qk8qdgf4n4g3pfee6491hc0brc4i.apps.googleusercontent.com&redirect_uri=urn%3aietf%3awg%3aoauth%3a2.0%3aoob&response_type=code&scope=email%20https%3a%2f%2fwww.googleapis.com%2fauth%2fdocs.test%20https%3a%2f%2fwww.googleapis.com%2fauth%2fdrive%20https%3a%2f%2fwww.googleapis.com%2fauth%2fdrive.photos.readonly%20https%3a%2f%2fwww.googleapis.com%2fauth%2fpeopleapi.readonly\n",
            "\n",
            "Enter your authorization code:\n",
            "··········\n",
            "Mounted at /content/drive\n"
          ],
          "name": "stdout"
        }
      ]
    },
    {
      "cell_type": "code",
      "metadata": {
        "id": "5zfZNNePMMv3",
        "colab_type": "code",
        "colab": {}
      },
      "source": [
        "df.to_csv('drive/My Drive/dataset/greetings_small.csv')"
      ],
      "execution_count": 0,
      "outputs": []
    },
    {
      "cell_type": "code",
      "metadata": {
        "id": "EAw9eKxoTC1v",
        "colab_type": "code",
        "colab": {}
      },
      "source": [
        ""
      ],
      "execution_count": 0,
      "outputs": []
    }
  ]
}